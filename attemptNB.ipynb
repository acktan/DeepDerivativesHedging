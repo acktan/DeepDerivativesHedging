{
 "cells": [
  {
   "cell_type": "code",
   "execution_count": null,
   "id": "4bbaa97c-4665-4184-86bd-eee9a0f3c225",
   "metadata": {},
   "outputs": [],
   "source": [
    "import pandas as pd\n",
    "import numpy as np\n",
    "import matplotlib.pyplot as plt\n",
    "from scipy.stats import norm\n",
    "import os\n",
    "import seaborn\n",
    "from tqdm import tqdm\n",
    "\n",
    "\n",
    "\n",
    "trainPath = 'data/Dataset_1_train_asset.csv'\n",
    "targetPath = 'data/Dataset_1_train_payoff.csv'\n",
    "\n",
    "trainData = pd.read_csv(trainPath)\n",
    "target = pd.read_csv(targetPath)"
   ]
  },
  {
   "cell_type": "code",
   "execution_count": null,
   "id": "0b69ff54-2d50-41cf-aa06-54563ac07755",
   "metadata": {},
   "outputs": [],
   "source": [
    "# exercise 1\n",
    "import numpy as np\n",
    "\n",
    "\n",
    "N = norm.cdf\n",
    "\n",
    "def bs_call(K: float, \n",
    "            T: float, \n",
    "            S: float = 1.0, \n",
    "            r: float = 0.0, \n",
    "            sigma: float = 15.8):\n",
    "    \n",
    "    d1 = (np.log(S/K) + (r + sigma**2/2)*T) / (sigma*np.sqrt(T))\n",
    "    d2 = d1 - sigma * np.sqrt(T)\n",
    "    return S * N(d1) - K * np.exp(-r*T) * N(d2)\n",
    "\n",
    "def bs_put(K: float,\n",
    "           T: float,\n",
    "           S: float = 1.0,\n",
    "           r: float = 0.0,\n",
    "           sigma: float = 15.8):\n",
    "    \n",
    "    d1 = (np.log(S/K) + (r + sigma**2/2)*T) / (sigma*np.sqrt(T))\n",
    "    d2 = d1 - sigma * np.sqrt(T)\n",
    "    return K*np.exp(-r*T)*N(-d2) - S*N(-d1)"
   ]
  }
 ],
 "metadata": {
  "kernelspec": {
   "display_name": "Python 3 (ipykernel)",
   "language": "python",
   "name": "python3"
  },
  "language_info": {
   "codemirror_mode": {
    "name": "ipython",
    "version": 3
   },
   "file_extension": ".py",
   "mimetype": "text/x-python",
   "name": "python",
   "nbconvert_exporter": "python",
   "pygments_lexer": "ipython3",
   "version": "3.8.13"
  }
 },
 "nbformat": 4,
 "nbformat_minor": 5
}
