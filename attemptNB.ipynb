{
 "cells": [
  {
   "cell_type": "code",
   "execution_count": null,
   "id": "4bbaa97c-4665-4184-86bd-eee9a0f3c225",
   "metadata": {},
   "outputs": [],
   "source": [
    "import pandas as pd\n",
    "import numpy as np\n",
    "import matplotlib.pyplot as plt\n",
    "from scipy.stats import norm\n",
    "import os\n",
    "import seaborn\n",
    "from tqdm import tqdm\n",
    "\n",
    "trainPath = 'data/Dataset_1_train_asset.csv'\n",
    "targetPath = 'data/Dataset_1_train_payoff.csv'\n",
    "\n",
    "trainData = pd.read_csv(trainPath)\n",
    "trainData.columns = [i for i in range(0, 31)]\n",
    "target = pd.read_csv(targetPath)"
   ]
  },
  {
   "cell_type": "code",
   "execution_count": null,
   "id": "0b69ff54-2d50-41cf-aa06-54563ac07755",
   "metadata": {},
   "outputs": [],
   "source": [
    "# exercise 1 - BlackScholes Model\n",
    "\n",
    "N = norm.cdf\n",
    "\n",
    "def bs_call(K: float, #underlying asset's price\n",
    "            T: float, #time till maturity\n",
    "            S: float = 1.0, # strike price\n",
    "            r: float = 0.0,  # risk-free\n",
    "            sigma: float = 0.158):\n",
    "    \n",
    "    d1 = (np.log(S/K) + (r + sigma**2/2)*T) / (sigma*np.sqrt(T))\n",
    "    d2 = d1 - sigma * np.sqrt(T)\n",
    "    return S * N(d1) - K * np.exp(-r*T) * N(d2), 1 - N(d1)\n",
    "\n",
    "def bs_put(K: float, #underlying asset's price\n",
    "           T: float, #time till maturity\n",
    "           S: float = 1.0, #strike price\n",
    "           r: float = 0.0, # risk-free\n",
    "           sigma: float = 0.158):\n",
    "    \n",
    "    d1 = (np.log(S/K) + (r + sigma**2/2)*T) / (sigma*np.sqrt(T))\n",
    "    d2 = d1 - sigma * np.sqrt(T)\n",
    "    return K*np.exp(-r*T)*N(-d2) - S*N(-d1)"
   ]
  },
  {
   "cell_type": "code",
   "execution_count": null,
   "id": "96e8302c-7a43-4d13-b742-85200e9aefcd",
   "metadata": {},
   "outputs": [],
   "source": [
    "def calculate_hedge(df: pd.DataFrame):\n",
    "    deltas = pd.DataFrame(index=range(df.shape[0]),columns=range(df.shape[1]))\n",
    "    portfolio_value_50 = pd.DataFrame(index=range(df.shape[0]),columns=range(df.shape[1]))\n",
    "    portfolio_value_99 = pd.DataFrame(index=range(df.shape[0]),columns=range(df.shape[1]))\n",
    "    \n",
    "    for i in tqdm(range(0, df.shape[0])):\n",
    "        short_position = 0.0\n",
    "        for j in range(0, df.shape[1]):\n",
    "            S = 100\n",
    "            initial_price = 100\n",
    "            K = df.loc[i, :].values[j]\n",
    "            T = (31 - j)/365\n",
    "            result, delta = bs_call(K=K, T=T, S=S)\n",
    "            short_position += -result\n",
    "            deltas.loc[i, j] = delta\n",
    "            option_value = max(0, S - K)\n",
    "            pnl_50 = (option_value + short_position*S) - initial_price*0.5\n",
    "            pnl_99 = (option_value + short_position*S) - initial_price*0.01\n",
    "            portfolio_value_50.loc[i, j] = pnl_50\n",
    "            portfolio_value_99.loc[i, j] = pnl_99\n",
    "    return deltas, portfolio_value_50, portfolio_value_99\n"
   ]
  },
  {
   "cell_type": "code",
   "execution_count": null,
   "id": "dd555956-637f-474b-9cf9-7b2046b8f42b",
   "metadata": {},
   "outputs": [],
   "source": [
    "bs_deltas, val50, val99 = calculate_hedge(trainData)"
   ]
  },
  {
   "cell_type": "code",
   "execution_count": null,
   "id": "e1c6175a-916a-4bb5-aed1-06d5a5bda51c",
   "metadata": {},
   "outputs": [],
   "source": [
    "def plot_figures(deltas: pd.DataFrame, df: pd.DataFrame): \n",
    "    fig, axs = plt.subplots(2, 3)\n",
    "    fig.set_size_inches(18.5, 10.5)\n",
    "    fig.suptitle('Delta spread at different time intervals', size=45)\n",
    "\n",
    "    axs[0,0].plot(df.loc[:, 0], deltas.loc[:, 0], 'bo')\n",
    "    axs[0,0].set_title('Time 0')\n",
    "    axs[0,1].plot(df.loc[:, 1], deltas.loc[:, 1], 'bo')\n",
    "    axs[0,1].set_title('Time 1')\n",
    "    axs[0,2].plot(df.loc[:, 5], deltas.loc[:, 5], 'bo')\n",
    "    axs[0,2].set_title('Time 5')\n",
    "    axs[1,0].plot(df.loc[:, 15], deltas.loc[:, 15], 'bo')\n",
    "    axs[1,0].set_title('Time 15')\n",
    "    axs[1,1].plot(df.loc[:, 25], deltas.loc[:, 25], 'bo')\n",
    "    axs[1,1].set_title('Time 25')\n",
    "    axs[1,2].plot(df.loc[:, 30], deltas.loc[:, 30], 'bo')\n",
    "    axs[1,2].set_title('Time 30')\n",
    "\n",
    "    for ax in axs.flat:\n",
    "        ax.set(xlabel='Spot price', ylabel='Delta')"
   ]
  },
  {
   "cell_type": "code",
   "execution_count": null,
   "id": "0fb560fe-4eb9-4fcd-8f60-49d337ee85c1",
   "metadata": {},
   "outputs": [],
   "source": [
    "plot_figures(bs_deltas, trainData)"
   ]
  },
  {
   "cell_type": "code",
   "execution_count": null,
   "id": "9f9ad7ed-3583-4fe9-b558-da162ee8a1fa",
   "metadata": {},
   "outputs": [],
   "source": []
  }
 ],
 "metadata": {
  "kernelspec": {
   "display_name": "Python 3 (ipykernel)",
   "language": "python",
   "name": "python3"
  },
  "language_info": {
   "codemirror_mode": {
    "name": "ipython",
    "version": 3
   },
   "file_extension": ".py",
   "mimetype": "text/x-python",
   "name": "python",
   "nbconvert_exporter": "python",
   "pygments_lexer": "ipython3",
   "version": "3.8.13"
  }
 },
 "nbformat": 4,
 "nbformat_minor": 5
}
