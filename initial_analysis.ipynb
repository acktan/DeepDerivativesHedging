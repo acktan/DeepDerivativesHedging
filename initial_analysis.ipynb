{
 "cells": [
  {
   "cell_type": "code",
   "execution_count": null,
   "id": "d2eac4ab-bb1a-40ff-bd10-eff61bc87917",
   "metadata": {},
   "outputs": [],
   "source": [
    "from utils import import_dataset_fct"
   ]
  },
  {
   "cell_type": "code",
   "execution_count": null,
   "id": "660a4f1a-2b2f-4773-bc53-753a916412d3",
   "metadata": {},
   "outputs": [],
   "source": [
    "import_dataset_fct.return_filenames()"
   ]
  },
  {
   "cell_type": "code",
   "execution_count": null,
   "id": "cdecc5d4-0fb0-4b77-b303-4173723f8a21",
   "metadata": {},
   "outputs": [],
   "source": [
    "df = import_dataset_fct.get_file(\"Dataset_1_train_asset.csv\")"
   ]
  },
  {
   "cell_type": "code",
   "execution_count": null,
   "id": "6014f7e1-afcd-44b1-adc3-f35f8da42c2f",
   "metadata": {},
   "outputs": [],
   "source": [
    "df"
   ]
  },
  {
   "cell_type": "code",
   "execution_count": null,
   "id": "ca874724-397b-43d8-9c64-c91055de31cc",
   "metadata": {},
   "outputs": [],
   "source": [
    "def col_numeric_names(df):\n",
    "    df = df.rename(columns={x:y for x,y in zip(df.columns,range(0,len(df.columns)))})\n",
    "    return df\n",
    "\n",
    "def absolute_growth(df):\n",
    "    len_df = df.shape[1]\n",
    "    temp = df.iloc[:,1:len_df]\n",
    "    temp = col_numeric_names(temp)\n",
    "    temp2 = df.iloc[:,:len_df-1]\n",
    "    df2 = temp-temp2\n",
    "    df2.insert(0, \"0\", 0)\n",
    "    df2 = col_numeric_names(df2)\n",
    "    return df2\n",
    "\n",
    "def percentage_growth(df):\n",
    "    df2 = absolute_growth(df)\n",
    "    df2 = df2.drop(columns=[0])\n",
    "    df2 = col_numeric_names(df2)\n",
    "    df3 = df2.div(df.iloc[:,:df.shape[1]-1])\n",
    "    df3.insert(0, \"0\", 0)\n",
    "    df3 = col_numeric_names(df3)\n",
    "    return df3"
   ]
  },
  {
   "cell_type": "code",
   "execution_count": null,
   "id": "1314276e-5857-4cc8-b5f3-7525dc5b71b4",
   "metadata": {},
   "outputs": [],
   "source": [
    "df2 = absolute_growth(df)"
   ]
  },
  {
   "cell_type": "code",
   "execution_count": null,
   "id": "78e87da6-8563-479a-9893-fe0882d645d1",
   "metadata": {},
   "outputs": [],
   "source": [
    "df3 = percentage_growth(df)\n",
    "df3"
   ]
  },
  {
   "cell_type": "code",
   "execution_count": null,
   "id": "8b718fa5-5d56-4def-8f2b-bac855f2dcb9",
   "metadata": {},
   "outputs": [],
   "source": [
    "df3.to_csv(\"/home/jovyan/Natixis/natives_deephedging/data/Dataset_1_train_asset_daily growth_rate.csv\", index= False)"
   ]
  },
  {
   "cell_type": "code",
   "execution_count": null,
   "id": "a6124df6-c338-4b52-b96f-56331f7b6daa",
   "metadata": {},
   "outputs": [],
   "source": [
    "len_df = df.shape[1]"
   ]
  },
  {
   "cell_type": "code",
   "execution_count": null,
   "id": "e079c72a-939c-49ed-b8aa-539ab88aa1f6",
   "metadata": {},
   "outputs": [],
   "source": [
    "temp = df.iloc[:,1:len_df]\n",
    "temp = temp.rename(columns={x:y for x,y in zip(temp.columns,range(0,len(temp.columns)-1))})\n",
    "temp2 = df.iloc[:,:len_df-1]"
   ]
  },
  {
   "cell_type": "code",
   "execution_count": null,
   "id": "ad6d31b8-f87d-4e09-ad9e-e444a6f8fd7c",
   "metadata": {},
   "outputs": [],
   "source": [
    "temp"
   ]
  },
  {
   "cell_type": "code",
   "execution_count": null,
   "id": "df311819-99d0-4a3b-bd05-153e452f81d6",
   "metadata": {},
   "outputs": [],
   "source": []
  }
 ],
 "metadata": {
  "kernelspec": {
   "display_name": "Python 3 (ipykernel)",
   "language": "python",
   "name": "python3"
  },
  "language_info": {
   "codemirror_mode": {
    "name": "ipython",
    "version": 3
   },
   "file_extension": ".py",
   "mimetype": "text/x-python",
   "name": "python",
   "nbconvert_exporter": "python",
   "pygments_lexer": "ipython3",
   "version": "3.8.13"
  }
 },
 "nbformat": 4,
 "nbformat_minor": 5
}
