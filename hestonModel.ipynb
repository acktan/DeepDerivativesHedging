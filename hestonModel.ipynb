{
 "cells": [
  {
   "cell_type": "code",
   "execution_count": null,
   "id": "4bbaa97c-4665-4184-86bd-eee9a0f3c225",
   "metadata": {},
   "outputs": [],
   "source": [
    "import pandas as pd\n",
    "import numpy as np\n",
    "import matplotlib.pyplot as plt\n",
    "from scipy.stats import norm\n",
    "import os\n",
    "import seaborn\n",
    "from tqdm import tqdm\n",
    "\n",
    "trainPath = 'data/Dataset_1_train_asset.csv'\n",
    "targetPath = 'data/Dataset_1_train_payoff.csv'\n",
    "testPath = 'data/Dataset_1_test_asset.csv'\n",
    "growthPath = 'data/Dataset_1_train_asset_daily growth_rate.csv'\n",
    "\n",
    "trainData = pd.read_csv(trainPath, header=None)\n",
    "testData = pd.read_csv(testPath, header=None)\n",
    "target = pd.read_csv(targetPath, header=None)\n",
    "growthTrain = pd.read_csv(growthPath)"
   ]
  },
  {
   "cell_type": "code",
   "execution_count": null,
   "id": "e68fe3f0-b717-4f9d-b6aa-4313016d0b47",
   "metadata": {},
   "outputs": [],
   "source": [
    "# exercise 2 - Heston Model"
   ]
  }
 ],
 "metadata": {
  "kernelspec": {
   "display_name": "Python 3 (ipykernel)",
   "language": "python",
   "name": "python3"
  },
  "language_info": {
   "codemirror_mode": {
    "name": "ipython",
    "version": 3
   },
   "file_extension": ".py",
   "mimetype": "text/x-python",
   "name": "python",
   "nbconvert_exporter": "python",
   "pygments_lexer": "ipython3",
   "version": "3.8.13"
  }
 },
 "nbformat": 4,
 "nbformat_minor": 5
}
